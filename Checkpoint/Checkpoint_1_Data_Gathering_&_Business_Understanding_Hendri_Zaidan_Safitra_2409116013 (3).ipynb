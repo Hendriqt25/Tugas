{
  "nbformat": 4,
  "nbformat_minor": 0,
  "metadata": {
    "colab": {
      "provenance": [],
      "collapsed_sections": [
        "Dt9KQig8qkAE"
      ]
    },
    "kernelspec": {
      "name": "python3",
      "display_name": "Python 3"
    },
    "language_info": {
      "name": "python"
    }
  },
  "cells": [
    {
      "cell_type": "markdown",
      "source": [
        "## BUSINESS UNDERSTANDING ##"
      ],
      "metadata": {
        "id": "Dt9KQig8qkAE"
      }
    },
    {
      "cell_type": "markdown",
      "source": [
        "# Business Objective #"
      ],
      "metadata": {
        "id": "AlpQyy8qrDpn"
      }
    },
    {
      "cell_type": "markdown",
      "source": [
        "Tujuan utama Proyek ini adalah memanfaatkan dan menganalisisdata perjalanan Uber untuk mendapatkan wawasan tentang pola perjalanan, jam sibuk, tren tarif, dan perilaku pengguna guna untuk meningkatkan efisiensi operasional, pengalaman pelanggan, dan keuntungan bisnis, melalui pemahaman pola permintaan pelanggan dan prediksi kebutuhan layanan. Analisis ini mencakup prediksi permintaan perjalanan, analisis faktor yang memengaruhi jumlah tarif, optimasi rute, pengelompokan pelanggan, dan analisis dampak acara khusus untuk mendukung pengambilan keputusan yang lebih baik.\"\n",
        "\n",
        "\n"
      ],
      "metadata": {
        "id": "XxqDtCWyrNOX"
      }
    },
    {
      "cell_type": "markdown",
      "source": [
        "## Assess Situation"
      ],
      "metadata": {
        "id": "qASxU7F4-34H"
      }
    },
    {
      "cell_type": "markdown",
      "source": [
        "\n",
        "Situasi bisnis ini beroperasi dipasar transportasi online yang kompetitif dengan berfokus pada kenyamanan, keamanan, dan keterjangkauan akses aplikasi uber untuk pelanggannya. Dataset bisnis ini mencakup informasi seperti waktu pemesanan, lokasi penjemputan, lokasi tujuan, waktu dan jarak perjalanan, dan jumlah tarif. tetapi bisnis ini mengalami tantangan seperti ketidakseimbangan antara permintaan dan ketersediaan pengemudi, kompetisi yang serupa.\n",
        "\n"
      ],
      "metadata": {
        "id": "-vpQBLmr_cMP"
      }
    },
    {
      "cell_type": "markdown",
      "source": [
        "## Data Mining Goals ##"
      ],
      "metadata": {
        "id": "cUrr1MhFFhKw"
      }
    },
    {
      "cell_type": "markdown",
      "source": [
        "Tujuan data mining mencakup analisis desripstif untuk memahami pola permintaan berdasarkan waktu dan membuat prediksi permintaan perjalanan uber kedepan dan memperdiksi durasi perjalanan berdasarkan jarak dan kondisi, mengelompokan pelanggan atau wilayah berdasarkan karakteristik tertentu."
      ],
      "metadata": {
        "id": "S-bXi62MFnWP"
      }
    },
    {
      "cell_type": "markdown",
      "source": [
        "## Project Plan ##"
      ],
      "metadata": {
        "id": "TM4Q0DmLGvLB"
      }
    },
    {
      "cell_type": "markdown",
      "source": [
        "1. Data Cleaning\n",
        "\n",
        "  Membersihkan dataset untuk mengatasi permasalahan dalam dataset seperti nilai hilang,duplikasi,dan lain lain agar data siap untuk digunakan dan dianalisis lebih lanjut.\n",
        "\n",
        "2. Identifikasi Data\n",
        "\n",
        "  Mengidentifikasi data berupa variabel-variabel yang penting dalam dataset  seperti waktu pemesanan, lokasi dan jarak pemesanan, serta jumlah tarif sehingga bisa memahami konteks pada dataset.\n",
        "\n",
        "3. Analisis Data\n",
        "\n",
        "  Melakukan analisis deskriptif dan prediktif untuk mendalami wawasan dari data, termasuk pola penggunaan, tren permintaan, dan faktor-faktor yang memengaruhi durasi serta jumlah tarif perjalanan.\n",
        "\n",
        "4. interpretasi dan Rekomendasi\n",
        "\n",
        "  MengInterpretasikan hasil analisis untuk memberikan wawasan yang sangat penting seperti pola penggunaan, tren permintaan, dan lain lain yang bisa direncanakan rekomendasi strategis bagi uber untuk meningkatkan kualitas, layanan, dan mengurangi biaya operasional."
      ],
      "metadata": {
        "id": "7jpIlH8bG1b1"
      }
    }
  ]
}
